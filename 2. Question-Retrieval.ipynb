{
 "cells": [
  {
   "cell_type": "code",
   "execution_count": 1,
   "id": "c384234b-6431-44b1-a529-7c3133b86eea",
   "metadata": {},
   "outputs": [
    {
     "name": "stderr",
     "output_type": "stream",
     "text": [
      "C:\\Users\\ML_DL\\Desktop\\LLM-WORKSHOP\\venv\\lib\\site-packages\\tqdm\\auto.py:21: TqdmWarning: IProgress not found. Please update jupyter and ipywidgets. See https://ipywidgets.readthedocs.io/en/stable/user_install.html\n",
      "  from .autonotebook import tqdm as notebook_tqdm\n"
     ]
    }
   ],
   "source": [
    "import faiss\n",
    "import numpy as np\n",
    "import torch\n",
    "from transformers import DPRContextEncoderTokenizer\n",
    "from transformers import DPRContextEncoder\n",
    "from transformers import DPRQuestionEncoder, DPRQuestionEncoderTokenizer"
   ]
  },
  {
   "cell_type": "code",
   "execution_count": 2,
   "id": "3cd096b2-8392-4a4c-8c4e-80be54d9793c",
   "metadata": {},
   "outputs": [],
   "source": [
    "def read_split(filename):\n",
    "    with open(filename, 'r', encoding='utf-8') as file:\n",
    "            text = file.read()\n",
    "    paragraphs = text.split('\\n')\n",
    "    paragraphs = [para.strip() for para in paragraphs if len(para.strip()) >0]\n",
    "    return paragraphs"
   ]
  },
  {
   "cell_type": "code",
   "execution_count": 3,
   "id": "466fb76b-1569-48e6-83fe-04b38feb38b0",
   "metadata": {},
   "outputs": [],
   "source": [
    "paragraphs = read_split('crrao_about.txt')"
   ]
  },
  {
   "cell_type": "code",
   "execution_count": 4,
   "id": "1d5c8bdc-145e-49b9-b09c-8e7e5167e487",
   "metadata": {},
   "outputs": [
    {
     "data": {
      "text/plain": [
       "['The institute is named after the most celebrated statistician of our times, Padma Vibushan Prof. C. R. Rao, FRS(1920-2023). The institute stands testimony to the ideology of Prof. Rao in promoting research from grass root levels and his vision to strengthen the research community in India. His zeal and passion, aspires us in working towards building an institute of excellence, to promote research in Mathematics, Statistics and their applications to varied fields.',\n",
       " \"CR Rao AIMSCS is engaged in cutting edge research in areas of Mathematics, Statistics, Computer Science and interdisciplinary fields, and provides a forum for national and international experts from different fields to meet and address problems of mutual interest. This is done through Centers of Excellence in (1) Mathematical Sciences, (2) Statistics (3) Computer Science and its allied areas such as Data Science, Cyber Security, Artificial Intelligence, Blockchain technology, IoT security, and Quantum & post-Quantum technology. The institute's mission includes foster knowledge in cutting edge areas through workshops, conferences, and courses, supporting doctoral research, and providing consultancy to researchers, government, and industry.\",\n",
       " 'By CRRAO \"We study physics to solve problems in physics, chemistry to solve problems in chemistry, and botany to solve problems in botany. There are no statistical problems that we solve using statistics. We use statistics to provide a course of action with minimum risk in all areas of human endeavor with unavailable evidence.\"']"
      ]
     },
     "execution_count": 4,
     "metadata": {},
     "output_type": "execute_result"
    }
   ],
   "source": [
    "paragraphs"
   ]
  },
  {
   "cell_type": "code",
   "execution_count": 5,
   "id": "ad6afd77-ba7a-4c7d-85c0-382a0445bb83",
   "metadata": {},
   "outputs": [
    {
     "name": "stderr",
     "output_type": "stream",
     "text": [
      "The tokenizer class you load from this checkpoint is not the same type as the class this function is called from. It may result in unexpected tokenization. \n",
      "The tokenizer class you load from this checkpoint is 'DPRQuestionEncoderTokenizer'. \n",
      "The class this function is called from is 'DPRContextEncoderTokenizer'.\n",
      "Some weights of the model checkpoint at facebook/dpr-ctx_encoder-single-nq-base were not used when initializing DPRContextEncoder: ['ctx_encoder.bert_model.pooler.dense.bias', 'ctx_encoder.bert_model.pooler.dense.weight']\n",
      "- This IS expected if you are initializing DPRContextEncoder from the checkpoint of a model trained on another task or with another architecture (e.g. initializing a BertForSequenceClassification model from a BertForPreTraining model).\n",
      "- This IS NOT expected if you are initializing DPRContextEncoder from the checkpoint of a model that you expect to be exactly identical (initializing a BertForSequenceClassification model from a BertForSequenceClassification model).\n"
     ]
    }
   ],
   "source": [
    "model_name = \"facebook/dpr-ctx_encoder-single-nq-base\"\n",
    "context_tokenizer = DPRContextEncoderTokenizer.from_pretrained(model_name)\n",
    "model_name = \"facebook/dpr-ctx_encoder-single-nq-base\"\n",
    "context_encoder = DPRContextEncoder.from_pretrained(model_name)"
   ]
  },
  {
   "cell_type": "code",
   "execution_count": 6,
   "id": "f4b9044a-f5b2-4347-b166-7636270a97ba",
   "metadata": {},
   "outputs": [],
   "source": [
    "def encode_contexts(text_list):\n",
    "    embeddings = []\n",
    "    for text in text_list:\n",
    "        inputs = context_tokenizer(text, return_tensors='pt', padding=True, truncation=True, max_length=256)\n",
    "        outputs = context_encoder(**inputs)\n",
    "        embeddings.append(outputs.pooler_output)\n",
    "    return torch.cat(embeddings).detach().numpy()"
   ]
  },
  {
   "cell_type": "code",
   "execution_count": 7,
   "id": "4a7d312d-c324-43ef-97aa-ce53083c3a92",
   "metadata": {},
   "outputs": [],
   "source": [
    "context_embeddings =encode_contexts(paragraphs)"
   ]
  },
  {
   "cell_type": "code",
   "execution_count": 8,
   "id": "07b8c12e-6fdd-4286-ac94-7769c88f80ba",
   "metadata": {},
   "outputs": [
    {
     "data": {
      "text/plain": [
       "array([[-6.21099100e-02,  1.58208027e-01, -1.11808985e-01, ...,\n",
       "        -4.12264317e-01,  2.66007543e-01,  9.66586359e-03],\n",
       "       [-3.74277122e-04,  4.04670835e-01,  3.87263000e-01, ...,\n",
       "        -4.87996668e-01, -2.83834264e-02, -1.43022329e-01],\n",
       "       [ 2.76853710e-01,  6.12155557e-01, -1.26120001e-01, ...,\n",
       "        -4.53348905e-01,  3.39126348e-01, -1.64205596e-01]], dtype=float32)"
      ]
     },
     "execution_count": 8,
     "metadata": {},
     "output_type": "execute_result"
    }
   ],
   "source": [
    "context_embeddings"
   ]
  },
  {
   "cell_type": "code",
   "execution_count": 9,
   "id": "98dd9b07-63d2-4c31-ae42-318994df6910",
   "metadata": {},
   "outputs": [],
   "source": [
    "embedding_dim = 768\n",
    "context_embeddings_np = np.array(context_embeddings).astype('float32')"
   ]
  },
  {
   "cell_type": "markdown",
   "id": "ecd46f80-b352-492a-ab6e-fcd754ea2a1e",
   "metadata": {},
   "source": [
    "<img src='./images/IMG_0360.jpg' width=\"800\">"
   ]
  },
  {
   "cell_type": "code",
   "execution_count": 10,
   "id": "752a49cf-da76-471f-b23e-ab46e17ba16c",
   "metadata": {},
   "outputs": [],
   "source": [
    "index = faiss.IndexFlatL2(embedding_dim)\n",
    "index.add(context_embeddings_np)"
   ]
  },
  {
   "cell_type": "code",
   "execution_count": 11,
   "id": "9146c0cc-80f2-4ef7-8194-8b22ab3bc55f",
   "metadata": {},
   "outputs": [
    {
     "data": {
      "text/plain": [
       "<faiss.swigfaiss_avx2.IndexFlatL2; proxy of <Swig Object of type 'faiss::IndexFlatL2 *' at 0x000001669A3C4E10> >"
      ]
     },
     "execution_count": 11,
     "metadata": {},
     "output_type": "execute_result"
    }
   ],
   "source": [
    "index"
   ]
  },
  {
   "cell_type": "code",
   "execution_count": 12,
   "id": "7aa7dec5-301e-47d6-b7af-e7f4eb5acbfd",
   "metadata": {},
   "outputs": [],
   "source": [
    "tokenizer_model = 'facebook/dpr-question_encoder-single-nq-base'\n",
    "encoder_model = 'facebook/dpr-question_encoder-single-nq-base'"
   ]
  },
  {
   "cell_type": "code",
   "execution_count": 13,
   "id": "b4ea2828-5fd1-4468-97f2-e3823884d382",
   "metadata": {},
   "outputs": [
    {
     "name": "stderr",
     "output_type": "stream",
     "text": [
      "Some weights of the model checkpoint at facebook/dpr-question_encoder-single-nq-base were not used when initializing DPRQuestionEncoder: ['question_encoder.bert_model.pooler.dense.bias', 'question_encoder.bert_model.pooler.dense.weight']\n",
      "- This IS expected if you are initializing DPRQuestionEncoder from the checkpoint of a model trained on another task or with another architecture (e.g. initializing a BertForSequenceClassification model from a BertForPreTraining model).\n",
      "- This IS NOT expected if you are initializing DPRQuestionEncoder from the checkpoint of a model that you expect to be exactly identical (initializing a BertForSequenceClassification model from a BertForSequenceClassification model).\n"
     ]
    }
   ],
   "source": [
    "question_tokenizer = DPRQuestionEncoderTokenizer.from_pretrained(tokenizer_model)\n",
    "question_encoder = DPRQuestionEncoder.from_pretrained(encoder_model)"
   ]
  },
  {
   "cell_type": "code",
   "execution_count": 14,
   "id": "ba154c83-631c-4229-960d-fd4dc23ee512",
   "metadata": {},
   "outputs": [],
   "source": [
    "question = 'research area of institute'\n",
    "question_inputs = question_tokenizer(question, return_tensors='pt')\n",
    "question_embedding = question_encoder(**question_inputs).pooler_output.detach().numpy()"
   ]
  },
  {
   "cell_type": "code",
   "execution_count": 15,
   "id": "8632ef12-25a5-45b7-bf96-59cd48b753db",
   "metadata": {},
   "outputs": [],
   "source": [
    "D, I = index.search(question_embedding, k=1) "
   ]
  },
  {
   "cell_type": "code",
   "execution_count": 16,
   "id": "c8eba7fc-1524-4fff-b91f-932d6eb7c960",
   "metadata": {},
   "outputs": [
    {
     "name": "stdout",
     "output_type": "stream",
     "text": [
      "D [[96.837036]] \n",
      "I [[0]]\n"
     ]
    }
   ],
   "source": [
    "print(\"D\",D,\"\\nI\",I)"
   ]
  },
  {
   "cell_type": "code",
   "execution_count": 17,
   "id": "5498cff3-da92-49e4-be55-90598d262957",
   "metadata": {},
   "outputs": [
    {
     "name": "stdout",
     "output_type": "stream",
     "text": [
      "1: The institute is named after the most celebrated statistician of our times, Padma Vibushan Prof. C. R. Rao, FRS(1920-2023). The institute stands testimony to the ideology of Prof. Rao in promoting research from grass root levels and his vision to strengthen the research community in India. His zeal and passion, aspires us in working towards building an institute of excellence, to promote research in Mathematics, Statistics and their applications to varied fields.\n",
      "distance 96.8370361328125\n"
     ]
    }
   ],
   "source": [
    "for i, idx in enumerate(I[0]):\n",
    "    print(f\"{i+1}: {paragraphs[idx]}\")\n",
    "    print(f\"distance {D[0][i]}\")  "
   ]
  },
  {
   "cell_type": "code",
   "execution_count": null,
   "id": "f8e0b4fd-6e18-4f89-b0a6-8b2823303b61",
   "metadata": {},
   "outputs": [],
   "source": []
  }
 ],
 "metadata": {
  "kernelspec": {
   "display_name": "Python 3 (ipykernel)",
   "language": "python",
   "name": "python3"
  },
  "language_info": {
   "codemirror_mode": {
    "name": "ipython",
    "version": 3
   },
   "file_extension": ".py",
   "mimetype": "text/x-python",
   "name": "python",
   "nbconvert_exporter": "python",
   "pygments_lexer": "ipython3",
   "version": "3.10.0"
  }
 },
 "nbformat": 4,
 "nbformat_minor": 5
}
