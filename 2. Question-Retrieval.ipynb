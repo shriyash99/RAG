{
 "cells": [
  {
   "cell_type": "code",
   "execution_count": null,
   "id": "c384234b-6431-44b1-a529-7c3133b86eea",
   "metadata": {},
   "outputs": [],
   "source": [
    "import faiss\n",
    "import numpy as np\n",
    "import torch\n",
    "from transformers import DPRContextEncoderTokenizer\n",
    "from transformers import DPRContextEncoder\n",
    "from transformers import DPRQuestionEncoder, DPRQuestionEncoderTokenizer"
   ]
  },
  {
   "cell_type": "code",
   "execution_count": null,
   "id": "3cd096b2-8392-4a4c-8c4e-80be54d9793c",
   "metadata": {},
   "outputs": [],
   "source": [
    "def read_split(filename):\n",
    "    with open(filename, 'r', encoding='utf-8') as file:\n",
    "            text = file.read()\n",
    "    paragraphs = text.split('\\n')\n",
    "    paragraphs = [para.strip() for para in paragraphs if len(para.strip()) >0]\n",
    "    return paragraphs"
   ]
  },
  {
   "cell_type": "code",
   "execution_count": null,
   "id": "466fb76b-1569-48e6-83fe-04b38feb38b0",
   "metadata": {},
   "outputs": [],
   "source": [
    "paragraphs = read_split('about_ai.txt')"
   ]
  },
  {
   "cell_type": "code",
   "execution_count": null,
   "id": "1d5c8bdc-145e-49b9-b09c-8e7e5167e487",
   "metadata": {},
   "outputs": [],
   "source": [
    "paragraphs"
   ]
  },
  {
   "cell_type": "code",
   "execution_count": null,
   "id": "ad6afd77-ba7a-4c7d-85c0-382a0445bb83",
   "metadata": {},
   "outputs": [],
   "source": [
    "model_name = \"facebook/dpr-ctx_encoder-single-nq-base\"\n",
    "context_tokenizer = DPRContextEncoderTokenizer.from_pretrained(model_name)\n",
    "model_name = \"facebook/dpr-ctx_encoder-single-nq-base\"\n",
    "context_encoder = DPRContextEncoder.from_pretrained(model_name)"
   ]
  },
  {
   "cell_type": "code",
   "execution_count": null,
   "id": "f4b9044a-f5b2-4347-b166-7636270a97ba",
   "metadata": {},
   "outputs": [],
   "source": [
    "def encode_contexts(text_list):\n",
    "    embeddings = []\n",
    "    for text in text_list:\n",
    "        inputs = context_tokenizer(text, return_tensors='pt', padding=True, truncation=True, max_length=256)\n",
    "        outputs = context_encoder(**inputs)\n",
    "        embeddings.append(outputs.pooler_output)\n",
    "    return torch.cat(embeddings).detach().numpy()"
   ]
  },
  {
   "cell_type": "code",
   "execution_count": null,
   "id": "4a7d312d-c324-43ef-97aa-ce53083c3a92",
   "metadata": {},
   "outputs": [],
   "source": [
    "context_embeddings =encode_contexts(paragraphs)"
   ]
  },
  {
   "cell_type": "code",
   "execution_count": null,
   "id": "07b8c12e-6fdd-4286-ac94-7769c88f80ba",
   "metadata": {},
   "outputs": [],
   "source": [
    "context_embeddings"
   ]
  },
  {
   "cell_type": "code",
   "execution_count": null,
   "id": "98dd9b07-63d2-4c31-ae42-318994df6910",
   "metadata": {},
   "outputs": [],
   "source": [
    "embedding_dim = 768\n",
    "context_embeddings_np = np.array(context_embeddings).astype('float32')"
   ]
  },
  {
   "cell_type": "markdown",
   "id": "ecd46f80-b352-492a-ab6e-fcd754ea2a1e",
   "metadata": {},
   "source": [
    "<img src='./images/IMG_0360.jpg' width=\"800\">"
   ]
  },
  {
   "cell_type": "code",
   "execution_count": null,
   "id": "752a49cf-da76-471f-b23e-ab46e17ba16c",
   "metadata": {},
   "outputs": [],
   "source": [
    "index = faiss.IndexFlatL2(embedding_dim)\n",
    "index.add(context_embeddings_np)"
   ]
  },
  {
   "cell_type": "code",
   "execution_count": null,
   "id": "9146c0cc-80f2-4ef7-8194-8b22ab3bc55f",
   "metadata": {},
   "outputs": [],
   "source": [
    "index"
   ]
  },
  {
   "cell_type": "code",
   "execution_count": null,
   "id": "7aa7dec5-301e-47d6-b7af-e7f4eb5acbfd",
   "metadata": {},
   "outputs": [],
   "source": [
    "tokenizer_model = 'facebook/dpr-question_encoder-single-nq-base'\n",
    "encoder_model = 'facebook/dpr-question_encoder-single-nq-base'"
   ]
  },
  {
   "cell_type": "code",
   "execution_count": null,
   "id": "b4ea2828-5fd1-4468-97f2-e3823884d382",
   "metadata": {},
   "outputs": [],
   "source": [
    "question_tokenizer = DPRQuestionEncoderTokenizer.from_pretrained(tokenizer_model)\n",
    "question_encoder = DPRQuestionEncoder.from_pretrained(encoder_model)"
   ]
  },
  {
   "cell_type": "code",
   "execution_count": null,
   "id": "ba154c83-631c-4229-960d-fd4dc23ee512",
   "metadata": {},
   "outputs": [],
   "source": [
    "question = 'research areas of ai'\n",
    "question_inputs = question_tokenizer(question, return_tensors='pt')\n",
    "question_embedding = question_encoder(**question_inputs).pooler_output.detach().numpy()"
   ]
  },
  {
   "cell_type": "code",
   "execution_count": null,
   "id": "8632ef12-25a5-45b7-bf96-59cd48b753db",
   "metadata": {},
   "outputs": [],
   "source": [
    "D, I = index.search(question_embedding, k=4) "
   ]
  },
  {
   "cell_type": "code",
   "execution_count": null,
   "id": "c8eba7fc-1524-4fff-b91f-932d6eb7c960",
   "metadata": {},
   "outputs": [],
   "source": [
    "print(\"D\",D,\"\\nI\",I)"
   ]
  },
  {
   "cell_type": "code",
   "execution_count": null,
   "id": "5498cff3-da92-49e4-be55-90598d262957",
   "metadata": {},
   "outputs": [],
   "source": [
    "for i, idx in enumerate(I[0]):\n",
    "    print(f\"{i+1}: {paragraphs[idx]}\")\n",
    "    print(f\"distance {D[0][i]}\")  "
   ]
  },
  {
   "cell_type": "code",
   "execution_count": null,
   "id": "f8e0b4fd-6e18-4f89-b0a6-8b2823303b61",
   "metadata": {},
   "outputs": [],
   "source": []
  }
 ],
 "metadata": {
  "kernelspec": {
   "display_name": "Python 3 (ipykernel)",
   "language": "python",
   "name": "python3"
  },
  "language_info": {
   "codemirror_mode": {
    "name": "ipython",
    "version": 3
   },
   "file_extension": ".py",
   "mimetype": "text/x-python",
   "name": "python",
   "nbconvert_exporter": "python",
   "pygments_lexer": "ipython3",
   "version": "3.10.0"
  }
 },
 "nbformat": 4,
 "nbformat_minor": 5
}
